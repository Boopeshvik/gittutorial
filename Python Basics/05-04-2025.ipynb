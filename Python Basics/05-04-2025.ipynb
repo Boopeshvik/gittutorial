{
 "cells": [
  {
   "cell_type": "code",
   "execution_count": 3,
   "metadata": {},
   "outputs": [
    {
     "name": "stdout",
     "output_type": "stream",
     "text": [
      "False\n",
      "True\n"
     ]
    }
   ],
   "source": [
    "a = 3 \n",
    "b = 4\n",
    "print (a>b)\n",
    "print (a<b)"
   ]
  },
  {
   "cell_type": "code",
   "execution_count": 6,
   "metadata": {},
   "outputs": [
    {
     "name": "stdout",
     "output_type": "stream",
     "text": [
      "False\n",
      "True\n"
     ]
    }
   ],
   "source": [
    "a = 10\n",
    "b = 10\n",
    "c = 20\n",
    "d = 20\n",
    "print((a>b) and (c>d))\n",
    "print((a<d) or (b<c))\n",
    "\n"
   ]
  },
  {
   "cell_type": "code",
   "execution_count": 19,
   "metadata": {},
   "outputs": [
    {
     "ename": "ValueError",
     "evalue": "could not convert string to float: ''",
     "output_type": "error",
     "traceback": [
      "\u001b[31m---------------------------------------------------------------------------\u001b[39m",
      "\u001b[31mValueError\u001b[39m                                Traceback (most recent call last)",
      "\u001b[36mCell\u001b[39m\u001b[36m \u001b[39m\u001b[32mIn[19]\u001b[39m\u001b[32m, line 1\u001b[39m\n\u001b[32m----> \u001b[39m\u001b[32m1\u001b[39m a = \u001b[38;5;28;43mfloat\u001b[39;49m\u001b[43m(\u001b[49m\u001b[38;5;28;43minput\u001b[39;49m\u001b[43m(\u001b[49m\u001b[33;43m\"\u001b[39;49m\u001b[33;43mEnter your 1st number: \u001b[39;49m\u001b[33;43m\"\u001b[39;49m\u001b[43m)\u001b[49m\u001b[43m)\u001b[49m\n\u001b[32m      2\u001b[39m b = \u001b[38;5;28mfloat\u001b[39m(\u001b[38;5;28minput\u001b[39m (\u001b[33m\"\u001b[39m\u001b[33mEnter your 2nd number: \u001b[39m\u001b[33m\"\u001b[39m))\n\u001b[32m      3\u001b[39m c = \u001b[38;5;28minput\u001b[39m (\u001b[33m\"\u001b[39m\u001b[33mEnter your choice: \u001b[39m\u001b[33m\"\u001b[39m) \n",
      "\u001b[31mValueError\u001b[39m: could not convert string to float: ''"
     ]
    }
   ],
   "source": [
    "a = float(input(\"Enter your 1st number: \"))\n",
    "b = float(input (\"Enter your 2nd number: \"))\n",
    "c = input (\"Enter your choice: \") \n",
    "c = 'add'\n",
    "if c == 'add':\n",
    "    print (a+b)\n",
    "else:\n",
    "    print(\"hello\")"
   ]
  },
  {
   "cell_type": "code",
   "execution_count": 25,
   "metadata": {},
   "outputs": [
    {
     "name": "stdout",
     "output_type": "stream",
     "text": [
      "Good\n"
     ]
    }
   ],
   "source": [
    "money = int(input(\"Enter your amount: \"))\n",
    "time = int(input(\"Enter the time:\"))\n",
    "if money == 200 and time ==  7:\n",
    "    print(\"Go to beach\")\n",
    "\n",
    "elif money >300 and time >8:\n",
    "    print(\"go out\")\n",
    "else:\n",
    "    print(\"Good\")\n"
   ]
  },
  {
   "cell_type": "code",
   "execution_count": 28,
   "metadata": {},
   "outputs": [
    {
     "name": "stdout",
     "output_type": "stream",
     "text": [
      "Your BMI is 19.23076923076923, so you are optimal\n"
     ]
    }
   ],
   "source": [
    "weight = float(input(\"Enter your Weight in KG:\"))\n",
    "height = float(input(\"Enter your height in meters:\"))\n",
    "\n",
    "bmi = weight/(height*2)\n",
    "\n",
    "if bmi < 18.5:\n",
    "    print(f\"Your BMI is {bmi}, so you are underweight\")\n",
    "elif bmi >=18.5 and bmi <=24.9:\n",
    "    print(f\"Your BMI is {bmi}, so you are optimal\")\n",
    "elif bmi >=25:\n",
    "    print(f\"Your BMI is {bmi}, so you are obese\")\n",
    "else:\n",
    "    print(\"You need medical attention\")\n"
   ]
  },
  {
   "cell_type": "code",
   "execution_count": 31,
   "metadata": {},
   "outputs": [
    {
     "name": "stdout",
     "output_type": "stream",
     "text": [
      "['Boopesh', 'Viyan', 'Naveena']\n"
     ]
    },
    {
     "data": {
      "text/plain": [
       "3"
      ]
     },
     "execution_count": 31,
     "metadata": {},
     "output_type": "execute_result"
    }
   ],
   "source": [
    "list = [\"Boopesh\",\"Viyan\",\"Naveena\"]\n",
    "print(list)\n",
    "len(list)"
   ]
  },
  {
   "cell_type": "code",
   "execution_count": 34,
   "metadata": {},
   "outputs": [
    {
     "name": "stdout",
     "output_type": "stream",
     "text": [
      "['Viyan'] ['Stevenage']\n"
     ]
    }
   ],
   "source": [
    "names =[]\n",
    "places =[]\n",
    "\n",
    "name = input(\"Enter your name\")\n",
    "place =input(\"Enter your place\")\n",
    "\n",
    "names.append (name)\n",
    "places.append (place)\n",
    "print(names,places)"
   ]
  }
 ],
 "metadata": {
  "kernelspec": {
   "display_name": "Python 3",
   "language": "python",
   "name": "python3"
  },
  "language_info": {
   "codemirror_mode": {
    "name": "ipython",
    "version": 3
   },
   "file_extension": ".py",
   "mimetype": "text/x-python",
   "name": "python",
   "nbconvert_exporter": "python",
   "pygments_lexer": "ipython3",
   "version": "3.12.0"
  }
 },
 "nbformat": 4,
 "nbformat_minor": 2
}
