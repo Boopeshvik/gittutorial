{
 "cells": [
  {
   "cell_type": "code",
   "execution_count": 3,
   "id": "f758a1b8",
   "metadata": {},
   "outputs": [
    {
     "ename": "ModuleNotFoundError",
     "evalue": "No module named 'sleep'",
     "output_type": "error",
     "traceback": [
      "\u001b[31m---------------------------------------------------------------------------\u001b[39m",
      "\u001b[31mModuleNotFoundError\u001b[39m                       Traceback (most recent call last)",
      "\u001b[36mCell\u001b[39m\u001b[36m \u001b[39m\u001b[32mIn[3]\u001b[39m\u001b[32m, line 1\u001b[39m\n\u001b[32m----> \u001b[39m\u001b[32m1\u001b[39m \u001b[38;5;28;01mimport\u001b[39;00m\u001b[38;5;250m \u001b[39m\u001b[34;01msleep\u001b[39;00m\n",
      "\u001b[31mModuleNotFoundError\u001b[39m: No module named 'sleep'"
     ]
    }
   ],
   "source": [
    "import sleep"
   ]
  },
  {
   "cell_type": "code",
   "execution_count": 4,
   "id": "222bcdad",
   "metadata": {},
   "outputs": [],
   "source": [
    "import time"
   ]
  },
  {
   "cell_type": "code",
   "execution_count": 7,
   "id": "dff09c89",
   "metadata": {},
   "outputs": [
    {
     "data": {
      "text/plain": [
       "<function time.sleep>"
      ]
     },
     "execution_count": 7,
     "metadata": {},
     "output_type": "execute_result"
    }
   ],
   "source": [
    "time.sleep"
   ]
  },
  {
   "cell_type": "code",
   "execution_count": 8,
   "id": "f5045fb9",
   "metadata": {},
   "outputs": [
    {
     "ename": "ModuleNotFoundError",
     "evalue": "No module named 'time.sleep'; 'time' is not a package",
     "output_type": "error",
     "traceback": [
      "\u001b[31m---------------------------------------------------------------------------\u001b[39m",
      "\u001b[31mModuleNotFoundError\u001b[39m                       Traceback (most recent call last)",
      "\u001b[36mCell\u001b[39m\u001b[36m \u001b[39m\u001b[32mIn[8]\u001b[39m\u001b[32m, line 1\u001b[39m\n\u001b[32m----> \u001b[39m\u001b[32m1\u001b[39m \u001b[38;5;28;01mimport\u001b[39;00m\u001b[38;5;250m \u001b[39m\u001b[34;01mtime\u001b[39;00m\u001b[34;01m.\u001b[39;00m\u001b[34;01msleep\u001b[39;00m\n",
      "\u001b[31mModuleNotFoundError\u001b[39m: No module named 'time.sleep'; 'time' is not a package"
     ]
    }
   ],
   "source": [
    "import time.sleep"
   ]
  },
  {
   "cell_type": "code",
   "execution_count": 10,
   "id": "8bfd6b9a",
   "metadata": {},
   "outputs": [],
   "source": [
    "def research ():\n",
    "    print(\"start\")\n",
    "    time.sleep(5)\n",
    "    print(\"stop\")"
   ]
  },
  {
   "cell_type": "code",
   "execution_count": 12,
   "id": "dddfcbc1",
   "metadata": {},
   "outputs": [
    {
     "name": "stdout",
     "output_type": "stream",
     "text": [
      "start\n",
      "stop\n"
     ]
    }
   ],
   "source": [
    "research()"
   ]
  },
  {
   "cell_type": "code",
   "execution_count": 14,
   "id": "2d61be9f",
   "metadata": {},
   "outputs": [],
   "source": [
    "class A:\n",
    "    def print_hello(self):\n",
    "        print(\"Hello World\")\n",
    "\n",
    "def show_hello(aaa):\n",
    "    aaa.print_hello()\n",
    "\n",
    "    \n"
   ]
  },
  {
   "cell_type": "code",
   "execution_count": 16,
   "id": "3b5fb317",
   "metadata": {},
   "outputs": [],
   "source": [
    "a =A()"
   ]
  },
  {
   "cell_type": "code",
   "execution_count": 19,
   "id": "12ce09de",
   "metadata": {},
   "outputs": [
    {
     "name": "stdout",
     "output_type": "stream",
     "text": [
      "Hello World\n"
     ]
    }
   ],
   "source": [
    "show_hello(a)"
   ]
  },
  {
   "cell_type": "code",
   "execution_count": 27,
   "id": "415ace16",
   "metadata": {},
   "outputs": [],
   "source": [
    "def time_it(func):\n",
    "    def wrapper():\n",
    "        t1 = time.time()\n",
    "        func()\n",
    "        t2 = time.time()\n",
    "        t = t2-t1\n",
    "        print(f\"the value of t is : {t} seconds\")\n",
    "    return wrapper\n",
    "        "
   ]
  },
  {
   "cell_type": "code",
   "execution_count": 28,
   "id": "493750cf",
   "metadata": {},
   "outputs": [],
   "source": [
    "by = time_it(research)"
   ]
  },
  {
   "cell_type": "code",
   "execution_count": 30,
   "id": "69b3207e",
   "metadata": {},
   "outputs": [
    {
     "name": "stdout",
     "output_type": "stream",
     "text": [
      "start\n",
      "stop\n",
      "the value of t is : 5.000715494155884 seconds\n"
     ]
    }
   ],
   "source": [
    "by()"
   ]
  },
  {
   "cell_type": "code",
   "execution_count": 36,
   "id": "9ee1b4f1",
   "metadata": {},
   "outputs": [],
   "source": [
    "@time_it\n",
    "def name():\n",
    "    print(\"Boopesh\")\n",
    "    time.sleep(5)\n",
    "    print(\"Viyan\")\n"
   ]
  },
  {
   "cell_type": "code",
   "execution_count": 38,
   "id": "35a18607",
   "metadata": {},
   "outputs": [
    {
     "name": "stdout",
     "output_type": "stream",
     "text": [
      "Boopesh\n",
      "Viyan\n",
      "the value of t is : 5.0006208419799805 seconds\n"
     ]
    }
   ],
   "source": [
    "\n",
    "name()\n"
   ]
  },
  {
   "cell_type": "code",
   "execution_count": 56,
   "id": "1d58d739",
   "metadata": {},
   "outputs": [],
   "source": [
    "def new_one(func):\n",
    "    def wrapper(*args,**kwargs):\n",
    "        t1 = time.time()\n",
    "        func(*args,**kwargs)\n",
    "        t2 = time.time()\n",
    "        t3 = t2-t1\n",
    "        print(f\"the time difference is : {t3}\")\n",
    "    return wrapper\n",
    "    "
   ]
  },
  {
   "cell_type": "code",
   "execution_count": 57,
   "id": "7ea91253",
   "metadata": {},
   "outputs": [],
   "source": [
    "@new_one\n",
    "def two(a,b,c,d):\n",
    "    print(a+b+c+d)\n",
    "    print(a+b+c+d)\n",
    "    time.sleep(5)\n",
    "    print(a+b+c+d)\n",
    "    print(a+b+c+d)\n",
    "\n"
   ]
  },
  {
   "cell_type": "code",
   "execution_count": 58,
   "id": "97b061d2",
   "metadata": {},
   "outputs": [
    {
     "name": "stdout",
     "output_type": "stream",
     "text": [
      "5\n",
      "5\n",
      "5\n",
      "5\n",
      "the time difference is : 5.0009236335754395\n"
     ]
    }
   ],
   "source": [
    "two(2,1,1,d=1)"
   ]
  },
  {
   "cell_type": "markdown",
   "id": "6dca4338",
   "metadata": {},
   "source": []
  },
  {
   "cell_type": "markdown",
   "id": "5c773ce7",
   "metadata": {},
   "source": []
  }
 ],
 "metadata": {
  "kernelspec": {
   "display_name": "Python 3",
   "language": "python",
   "name": "python3"
  },
  "language_info": {
   "codemirror_mode": {
    "name": "ipython",
    "version": 3
   },
   "file_extension": ".py",
   "mimetype": "text/x-python",
   "name": "python",
   "nbconvert_exporter": "python",
   "pygments_lexer": "ipython3",
   "version": "3.12.0"
  }
 },
 "nbformat": 4,
 "nbformat_minor": 5
}
