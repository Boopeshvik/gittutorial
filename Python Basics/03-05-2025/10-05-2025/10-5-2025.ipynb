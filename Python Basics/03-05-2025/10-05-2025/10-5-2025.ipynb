{
 "cells": [
  {
   "cell_type": "code",
   "execution_count": 24,
   "id": "e04ede56",
   "metadata": {},
   "outputs": [
    {
     "name": "stdout",
     "output_type": "stream",
     "text": [
      "25-05-12 20-37-14\n"
     ]
    }
   ],
   "source": [
    "print(time.strftime(\"%y-%m-%d %H-%M-%S\",time.localtime()))"
   ]
  },
  {
   "cell_type": "code",
   "execution_count": 25,
   "id": "09d7071b",
   "metadata": {},
   "outputs": [
    {
     "name": "stdout",
     "output_type": "stream",
     "text": [
      "His name is :Boopesh\n"
     ]
    }
   ],
   "source": [
    "name = \"Boopesh\" \n",
    "print(f\"His name is :{name}\")"
   ]
  },
  {
   "cell_type": "code",
   "execution_count": 26,
   "id": "d445f4ed",
   "metadata": {},
   "outputs": [
    {
     "name": "stdout",
     "output_type": "stream",
     "text": [
      "25-05-12\n"
     ]
    }
   ],
   "source": [
    "print(time.strftime(\"%y-%m-%d\",time.localtime()))"
   ]
  },
  {
   "cell_type": "code",
   "execution_count": 27,
   "id": "81934be3",
   "metadata": {},
   "outputs": [],
   "source": [
    "import time\n"
   ]
  },
  {
   "cell_type": "code",
   "execution_count": 28,
   "id": "d43e40b7",
   "metadata": {},
   "outputs": [
    {
     "name": "stdout",
     "output_type": "stream",
     "text": [
      "25-05-12\n"
     ]
    }
   ],
   "source": [
    "print(time.strftime(\"%y-%m-%d\",time.localtime()))"
   ]
  },
  {
   "cell_type": "code",
   "execution_count": 29,
   "id": "1af0231d",
   "metadata": {},
   "outputs": [
    {
     "name": "stdout",
     "output_type": "stream",
     "text": [
      "first name is:Boopesh,second name is:Viyan,thrid name is:Naveena\n"
     ]
    }
   ],
   "source": [
    "name_1 = \"Boopesh\"\n",
    "name_2 = \"Viyan\"\n",
    "name_3 = \"Naveena\"\n",
    "\n",
    "print(f\"first name is:{name_1},second name is:{name_2},thrid name is:{name_3}\")"
   ]
  },
  {
   "cell_type": "code",
   "execution_count": 30,
   "id": "92e973e9",
   "metadata": {},
   "outputs": [
    {
     "name": "stdout",
     "output_type": "stream",
     "text": [
      "2\n",
      "4\n"
     ]
    }
   ],
   "source": [
    "def add():\n",
    "    print(1+1)\n",
    "    time.sleep(5)\n",
    "    print(1+3)\n",
    "add()"
   ]
  },
  {
   "cell_type": "code",
   "execution_count": 31,
   "id": "c083b55d",
   "metadata": {},
   "outputs": [],
   "source": [
    "def time_it(func):\n",
    "    def wrapper():\n",
    "        t1 = time.time()\n",
    "        print(f\"time starts at:{t1}\")\n",
    "        func()\n",
    "        t2 = time.time()\n",
    "        print(f\"time starts at :{t2}\")\n",
    "        t = t2-t1\n",
    "        print(f\"time taken is : {t}\")\n",
    "    return wrapper\n"
   ]
  },
  {
   "cell_type": "code",
   "execution_count": 32,
   "id": "05557b9e",
   "metadata": {},
   "outputs": [],
   "source": [
    "def research():\n",
    "    print(\"start\")\n",
    "    time.sleep(5)\n",
    "    print(\"complete\")"
   ]
  }
 ],
 "metadata": {
  "kernelspec": {
   "display_name": "Python 3",
   "language": "python",
   "name": "python3"
  },
  "language_info": {
   "codemirror_mode": {
    "name": "ipython",
    "version": 3
   },
   "file_extension": ".py",
   "mimetype": "text/x-python",
   "name": "python",
   "nbconvert_exporter": "python",
   "pygments_lexer": "ipython3",
   "version": "3.12.0"
  }
 },
 "nbformat": 4,
 "nbformat_minor": 5
}
