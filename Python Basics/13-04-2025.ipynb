{
 "cells": [
  {
   "cell_type": "code",
   "execution_count": 6,
   "id": "0bfbfe51",
   "metadata": {},
   "outputs": [
    {
     "name": "stdout",
     "output_type": "stream",
     "text": [
      "apple\n",
      "Mango\n",
      "Organge\n"
     ]
    }
   ],
   "source": [
    "fruits = [\"apple\",\"Mango\",\"Organge\"]\n",
    "for i in (fruits):\n",
    "    print(i)"
   ]
  },
  {
   "cell_type": "code",
   "execution_count": 8,
   "id": "ec427465",
   "metadata": {},
   "outputs": [
    {
     "name": "stdout",
     "output_type": "stream",
     "text": [
      "Boopesh\n",
      "Vikram\n",
      "Viyan\n",
      "Naveena\n"
     ]
    }
   ],
   "source": [
    "names = [\"Boopesh\",\"Vikram\",\"Viyan\",\"Naveena\"]\n",
    "for i in names:\n",
    "    print(i)"
   ]
  },
  {
   "cell_type": "code",
   "execution_count": 11,
   "id": "f440f005",
   "metadata": {},
   "outputs": [
    {
     "name": "stdout",
     "output_type": "stream",
     "text": [
      "3\n",
      "6\n",
      "9\n",
      "12\n",
      "15\n"
     ]
    }
   ],
   "source": [
    "a = [1,2,3,4,5]\n",
    "for i in a:\n",
    "    print(3*i)"
   ]
  },
  {
   "cell_type": "code",
   "execution_count": 13,
   "id": "17cb9659",
   "metadata": {},
   "outputs": [
    {
     "name": "stdout",
     "output_type": "stream",
     "text": [
      "['Naveena', 'US']\n"
     ]
    }
   ],
   "source": [
    "emp_details = {\n",
    "              1: [\"Boopesh\",\"India\"],\n",
    "              2: [\"Viyan\",\"UK\"],\n",
    "              3: [\"Naveena\",\"US\"]\n",
    "              }\n",
    "\n",
    "print(emp_details[3])"
   ]
  },
  {
   "cell_type": "code",
   "execution_count": null,
   "id": "1d6266e0",
   "metadata": {},
   "outputs": [
    {
     "name": "stdout",
     "output_type": "stream",
     "text": [
      "['Boopesh', 'India']\n",
      "['Viyan', 'UK']\n",
      "['Naveena', 'US']\n"
     ]
    },
    {
     "ename": "",
     "evalue": "",
     "output_type": "error",
     "traceback": [
      "\u001b[1;31mThe Kernel crashed while executing code in the current cell or a previous cell. \n",
      "\u001b[1;31mPlease review the code in the cell(s) to identify a possible cause of the failure. \n",
      "\u001b[1;31mClick <a href='https://aka.ms/vscodeJupyterKernelCrash'>here</a> for more info. \n",
      "\u001b[1;31mView Jupyter <a href='command:jupyter.viewOutput'>log</a> for further details."
     ]
    }
   ],
   "source": [
    "emp_details = {\n",
    "              1: [\"Boopesh\",\"India\"],\n",
    "              2: [\"Viyan\",\"UK\"],\n",
    "              3: [\"Naveena\",\"US\"]\n",
    "              }\n",
    "for i in emp_details:\n",
    "    print(emp_details[i])\n",
    "    "
   ]
  },
  {
   "cell_type": "markdown",
   "id": "23e2c038",
   "metadata": {},
   "source": []
  }
 ],
 "metadata": {
  "kernelspec": {
   "display_name": "Python 3",
   "language": "python",
   "name": "python3"
  },
  "language_info": {
   "codemirror_mode": {
    "name": "ipython",
    "version": 3
   },
   "file_extension": ".py",
   "mimetype": "text/x-python",
   "name": "python",
   "nbconvert_exporter": "python",
   "pygments_lexer": "ipython3",
   "version": "3.12.0"
  }
 },
 "nbformat": 4,
 "nbformat_minor": 5
}
