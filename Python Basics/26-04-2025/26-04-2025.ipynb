{
 "cells": [
  {
   "cell_type": "code",
   "execution_count": 2,
   "id": "15facf3a",
   "metadata": {},
   "outputs": [
    {
     "name": "stdout",
     "output_type": "stream",
     "text": [
      "8\n"
     ]
    }
   ],
   "source": [
    "try:\n",
    "    a = 10/0\n",
    "    b = 10\n",
    "    c = b+'STR'\n",
    "    print (b)\n",
    "except(ValueError,ZeroDivisionError):\n",
    "    z = int(input(\"Enter 1st number:\"))\n",
    "    k = int(input(\"Enter 2nd number:\"))\n",
    "    y = z+k\n",
    "print(y)"
   ]
  },
  {
   "cell_type": "code",
   "execution_count": null,
   "id": "d37c56d6",
   "metadata": {},
   "outputs": [
    {
     "name": "stdout",
     "output_type": "stream",
     "text": [
      "0\n"
     ]
    }
   ],
   "source": []
  },
  {
   "cell_type": "code",
   "execution_count": 8,
   "id": "2f1b252d",
   "metadata": {},
   "outputs": [
    {
     "name": "stdout",
     "output_type": "stream",
     "text": [
      "20\n"
     ]
    }
   ],
   "source": [
    "def add_add(a,b):\n",
    "    ab = int(a)\n",
    "    cd = int(b)\n",
    "    e= int(ab*cd)\n",
    "    print(e)\n",
    "add_add(5,4)"
   ]
  },
  {
   "cell_type": "code",
   "execution_count": 4,
   "id": "c3757671",
   "metadata": {},
   "outputs": [
    {
     "name": "stdout",
     "output_type": "stream",
     "text": [
      "Viyan division by zero\n"
     ]
    }
   ],
   "source": [
    "try:\n",
    "    a=10/0\n",
    "except Exception as e:\n",
    "    print(\"Viyan\",e)\n",
    "\n"
   ]
  },
  {
   "cell_type": "code",
   "execution_count": 17,
   "id": "a29fcc0d",
   "metadata": {},
   "outputs": [
    {
     "name": "stdout",
     "output_type": "stream",
     "text": [
      "hello\n"
     ]
    }
   ],
   "source": [
    "def my_number():\n",
    "    print(\"hello\")\n",
    "my_number()"
   ]
  },
  {
   "cell_type": "code",
   "execution_count": 7,
   "id": "a6aab693",
   "metadata": {},
   "outputs": [
    {
     "name": "stdout",
     "output_type": "stream",
     "text": [
      "30\n"
     ]
    }
   ],
   "source": [
    "def my_time():\n",
    "    a = int(6)\n",
    "    b =int(5)\n",
    "    c = a*b\n",
    "    print(c)\n",
    "my_time()"
   ]
  },
  {
   "cell_type": "code",
   "execution_count": 22,
   "id": "d771d4f4",
   "metadata": {},
   "outputs": [
    {
     "name": "stdout",
     "output_type": "stream",
     "text": [
      "12\n"
     ]
    }
   ],
   "source": [
    "def one_two():\n",
    "    a = int(input(\"Enter your 1st\"))\n",
    "    b = int(input(\"Enter your 2nd\"))\n",
    "    c = a+b\n",
    "    print(c)\n",
    "one_two()"
   ]
  },
  {
   "cell_type": "code",
   "execution_count": 23,
   "id": "f12b3fa2",
   "metadata": {},
   "outputs": [
    {
     "name": "stdout",
     "output_type": "stream",
     "text": [
      "hello division by zero\n"
     ]
    }
   ],
   "source": [
    "try:\n",
    "    a=1/0\n",
    "    print(a)\n",
    "except Exception as e:\n",
    "    print(\"hello\",e)\n"
   ]
  },
  {
   "cell_type": "code",
   "execution_count": 27,
   "id": "7e21e4b5",
   "metadata": {},
   "outputs": [
    {
     "name": "stdout",
     "output_type": "stream",
     "text": [
      "8 15\n"
     ]
    }
   ],
   "source": [
    "def one_three(value_1,value_2):\n",
    "    a = int(value_1)\n",
    "    b = int(value_2)\n",
    "    c = a+b\n",
    "    d = a*b\n",
    "    print(c,d)\n",
    "one_three(3,5)\n"
   ]
  },
  {
   "cell_type": "code",
   "execution_count": null,
   "id": "62dbb768",
   "metadata": {},
   "outputs": [
    {
     "name": "stdout",
     "output_type": "stream",
     "text": [
      "1.0\n"
     ]
    }
   ],
   "source": [
    "def cal():\n",
    "    a = int(input(\"Enter your 1st number\"))\n",
    "    b = int(input(\"Enter your 2nd number\"))\n",
    "    c = input(\"Choose your Operation:\")\n",
    "    if c == \"ADD\":\n",
    "        print(a+b)\n",
    "    if c == \"SUB\":\n",
    "        print(a-b)\n",
    "    if c == \"MUL\":\n",
    "        print(a*b)\n",
    "    if c ==\"DIV\":\n",
    "        print(a/b)\n",
    "\n",
    "cal()\n",
    "\n",
    "\n",
    "\n",
    "\n",
    "\n",
    "\n",
    "    "
   ]
  },
  {
   "cell_type": "code",
   "execution_count": 3,
   "id": "a3cb0482",
   "metadata": {},
   "outputs": [
    {
     "name": "stdout",
     "output_type": "stream",
     "text": [
      "567\n"
     ]
    }
   ],
   "source": [
    "dic = {\n",
    "    \"brand\": \"BMW\",\n",
    "    \"Model\": \"2025\",\n",
    "    \"Num\" : \"567\"}\n",
    "print(dic[\"Num\"])"
   ]
  },
  {
   "cell_type": "code",
   "execution_count": 7,
   "id": "122c2356",
   "metadata": {},
   "outputs": [
    {
     "ename": "TypeError",
     "evalue": "Home.buy_house() missing 1 required positional argument: 'customername'",
     "output_type": "error",
     "traceback": [
      "\u001b[31m---------------------------------------------------------------------------\u001b[39m",
      "\u001b[31mTypeError\u001b[39m                                 Traceback (most recent call last)",
      "\u001b[36mCell\u001b[39m\u001b[36m \u001b[39m\u001b[32mIn[7]\u001b[39m\u001b[32m, line 11\u001b[39m\n\u001b[32m      7\u001b[39m         \u001b[38;5;28mprint\u001b[39m(\u001b[33m\"\u001b[39m\u001b[33mCongrats\u001b[39m\u001b[33m\"\u001b[39m,customername,\u001b[33m\"\u001b[39m\u001b[33myou have secured the house of size\u001b[39m\u001b[33m\"\u001b[39m,\u001b[38;5;28mself\u001b[39m.propertysize)\n\u001b[32m     10\u001b[39m builder = Home\n\u001b[32m---> \u001b[39m\u001b[32m11\u001b[39m \u001b[43mbuilder\u001b[49m\u001b[43m.\u001b[49m\u001b[43mbuy_house\u001b[49m\u001b[43m(\u001b[49m\u001b[33;43m\"\u001b[39;49m\u001b[33;43mBoopesh\u001b[39;49m\u001b[33;43m\"\u001b[39;49m\u001b[43m)\u001b[49m\n",
      "\u001b[31mTypeError\u001b[39m: Home.buy_house() missing 1 required positional argument: 'customername'"
     ]
    }
   ],
   "source": [
    "class Home():\n",
    "    def init (self):\n",
    "        self.propertysize = \"100\"\n",
    "        self.propertylocation = \"Chennai\"\n",
    "        self.house_left = 100\n",
    "    def buy_house(self,customername):\n",
    "        print(\"Congrats\",customername,\"you have secured the house of size\",self.propertysize)\n",
    "        \n",
    "\n",
    "builder = Home\n",
    "builder.buy_house(\"Boopesh\")"
   ]
  }
 ],
 "metadata": {
  "kernelspec": {
   "display_name": "Python 3",
   "language": "python",
   "name": "python3"
  },
  "language_info": {
   "codemirror_mode": {
    "name": "ipython",
    "version": 3
   },
   "file_extension": ".py",
   "mimetype": "text/x-python",
   "name": "python",
   "nbconvert_exporter": "python",
   "pygments_lexer": "ipython3",
   "version": "3.12.0"
  }
 },
 "nbformat": 4,
 "nbformat_minor": 5
}
