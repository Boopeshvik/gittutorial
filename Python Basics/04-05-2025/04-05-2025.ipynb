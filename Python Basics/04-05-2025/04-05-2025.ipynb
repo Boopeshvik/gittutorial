{
 "cells": [
  {
   "cell_type": "code",
   "execution_count": 1,
   "id": "40a65562",
   "metadata": {},
   "outputs": [
    {
     "name": "stdout",
     "output_type": "stream",
     "text": [
      "Hello\n"
     ]
    }
   ],
   "source": [
    "class A:\n",
    "    def add(self,a,b):\n",
    "        print(f\"hello: a value is {a} & b value is {b}\")\n",
    "    def add(self,a,b):\n",
    "        print(\"Hello\")\n",
    "obj = A()\n",
    "obj.add(1,2)"
   ]
  },
  {
   "cell_type": "code",
   "execution_count": 2,
   "id": "492a6b45",
   "metadata": {},
   "outputs": [
    {
     "name": "stdout",
     "output_type": "stream",
     "text": [
      "hello: a value is 1 & b value is 2\n"
     ]
    }
   ],
   "source": [
    "class A:\n",
    "    def add(self,a,b):\n",
    "        print(f\"hello: a value is {a} & b value is {b}\")\n",
    "    \n",
    "obj = A()\n",
    "obj.add(1,2)"
   ]
  },
  {
   "cell_type": "code",
   "execution_count": 4,
   "id": "b1b36687",
   "metadata": {},
   "outputs": [
    {
     "name": "stdout",
     "output_type": "stream",
     "text": [
      "What\n",
      "Hello 12\n"
     ]
    }
   ],
   "source": [
    "class A():\n",
    "    def add(self,a,b):\n",
    "        print(f\"Hello {a}{b}\")\n",
    "class B(A):\n",
    "    print(\"What\")\n",
    "\n",
    "one = B()\n",
    "one.add(1,2)"
   ]
  },
  {
   "cell_type": "code",
   "execution_count": 9,
   "id": "cb93db9c",
   "metadata": {},
   "outputs": [
    {
     "name": "stdout",
     "output_type": "stream",
     "text": [
      "Hello from C\n",
      "hello from A\n"
     ]
    }
   ],
   "source": [
    "class B():\n",
    "    def greet(self):\n",
    "        print(\"Hello from B\")\n",
    "class C():\n",
    "    def greet(self):\n",
    "        print(\"Hello from C\")\n",
    "class A(C,B):\n",
    "    def greet(self):\n",
    "        super().greet()\n",
    "        print(\"hello from A\")\n",
    "one = A()\n",
    "one.greet()\n"
   ]
  },
  {
   "cell_type": "code",
   "execution_count": 14,
   "id": "46fddd5f",
   "metadata": {},
   "outputs": [],
   "source": [
    "def my_decorator(fun):\n",
    "    def wrapped():\n",
    "        print(\"before the function runs\")\n",
    "        fun()\n",
    "        print(\"after the function runs\")\n",
    "    return wrapped\n",
    "\n",
    "\n",
    "\n",
    "\n",
    "\n",
    "    "
   ]
  },
  {
   "cell_type": "code",
   "execution_count": 16,
   "id": "bd09cc2d",
   "metadata": {},
   "outputs": [
    {
     "name": "stdout",
     "output_type": "stream",
     "text": [
      "Before calling the function.\n",
      "Hello, World!\n",
      "After calling the function.\n"
     ]
    }
   ],
   "source": [
    "def decorator(func):\n",
    "  \n",
    "    def wrapper():\n",
    "        print(\"Before calling the function.\")\n",
    "        func()\n",
    "        print(\"After calling the function.\")\n",
    "    return wrapper\n",
    "\n",
    "# Applying the decorator to a function\n",
    "@decorator\n",
    "\n",
    "def greet():\n",
    "    print(\"Hello, World!\")\n",
    "\n",
    "greet()"
   ]
  },
  {
   "cell_type": "code",
   "execution_count": 17,
   "id": "82207ec6",
   "metadata": {},
   "outputs": [
    {
     "name": "stdout",
     "output_type": "stream",
     "text": [
      "Before calling the function.\n",
      "Hello Boopesh\n",
      "After calling the function.\n"
     ]
    }
   ],
   "source": [
    "def decorator(func):\n",
    "  \n",
    "    def wrapper():\n",
    "        print(\"Before calling the function.\")\n",
    "        func()\n",
    "        print(\"After calling the function.\")\n",
    "    return wrapper\n",
    "\n",
    "@decorator\n",
    "\n",
    "def one():\n",
    "    print(\"Hello Boopesh\")\n",
    "one()"
   ]
  }
 ],
 "metadata": {
  "kernelspec": {
   "display_name": "Python 3",
   "language": "python",
   "name": "python3"
  },
  "language_info": {
   "codemirror_mode": {
    "name": "ipython",
    "version": 3
   },
   "file_extension": ".py",
   "mimetype": "text/x-python",
   "name": "python",
   "nbconvert_exporter": "python",
   "pygments_lexer": "ipython3",
   "version": "3.12.0"
  }
 },
 "nbformat": 4,
 "nbformat_minor": 5
}
