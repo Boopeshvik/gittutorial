{
 "cells": [
  {
   "cell_type": "code",
   "execution_count": 3,
   "id": "580835a4",
   "metadata": {},
   "outputs": [
    {
     "name": "stdout",
     "output_type": "stream",
     "text": [
      "Viyan\n",
      "Viy\n",
      "Viyaan\n"
     ]
    }
   ],
   "source": [
    "a = [\"Viyan\",\"Viy\",\"Viyaan\",\"Naveena\"]\n",
    "\n",
    "for name in a:\n",
    "    if \"Viy\" in name:\n",
    "        print(name)"
   ]
  },
  {
   "cell_type": "code",
   "execution_count": 6,
   "id": "262a2ec2",
   "metadata": {},
   "outputs": [],
   "source": [
    "import os"
   ]
  },
  {
   "cell_type": "code",
   "execution_count": 8,
   "id": "7a6f9c87",
   "metadata": {},
   "outputs": [
    {
     "data": {
      "text/plain": [
       "'d:\\\\Python\\\\Python Basics'"
      ]
     },
     "execution_count": 8,
     "metadata": {},
     "output_type": "execute_result"
    }
   ],
   "source": [
    "os.getcwd()"
   ]
  },
  {
   "cell_type": "code",
   "execution_count": 10,
   "id": "4588674e",
   "metadata": {},
   "outputs": [
    {
     "name": "stdout",
     "output_type": "stream",
     "text": [
      "['05-04-2025.ipynb', '06-04-2025.ipynb', '12-04-2025.ipynb', '13-04-2025.ipynb', '19-04-2025.ipynb', '20-04-2024.ipynb', '30-3-2025.ipynb', 'basics.ipynb', 'basics.py', 'test.txt', 'Topics.txt']\n"
     ]
    }
   ],
   "source": [
    "print(os.listdir('d:\\\\Python\\\\Python Basics'))"
   ]
  },
  {
   "cell_type": "code",
   "execution_count": 12,
   "id": "873e4562",
   "metadata": {},
   "outputs": [
    {
     "name": "stdout",
     "output_type": "stream",
     "text": [
      "Viyan Boopeshvikram\n"
     ]
    }
   ],
   "source": [
    "a = open(\"test.txt\")\n",
    "b = a.read()\n",
    "print(b)"
   ]
  }
 ],
 "metadata": {
  "kernelspec": {
   "display_name": "Python 3",
   "language": "python",
   "name": "python3"
  },
  "language_info": {
   "codemirror_mode": {
    "name": "ipython",
    "version": 3
   },
   "file_extension": ".py",
   "mimetype": "text/x-python",
   "name": "python",
   "nbconvert_exporter": "python",
   "pygments_lexer": "ipython3",
   "version": "3.12.0"
  }
 },
 "nbformat": 4,
 "nbformat_minor": 5
}
